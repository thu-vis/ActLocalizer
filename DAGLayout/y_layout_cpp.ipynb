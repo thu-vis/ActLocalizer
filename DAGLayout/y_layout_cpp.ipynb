{
 "cells": [
  {
   "cell_type": "code",
   "execution_count": 1,
   "metadata": {},
   "outputs": [
    {
     "ename": "FileNotFoundError",
     "evalue": "[Errno 2] No such file or directory: '/tmp/VideoVis/2022-08-28 16:29:23.pkl'",
     "output_type": "error",
     "traceback": [
      "\u001b[0;31m---------------------------------------------------------------------------\u001b[0m",
      "\u001b[0;31mFileNotFoundError\u001b[0m                         Traceback (most recent call last)",
      "\u001b[0;32m<ipython-input-1-50d3c2f3c552>\u001b[0m in \u001b[0;36m<cell line: 17>\u001b[0;34m()\u001b[0m\n\u001b[1;32m     15\u001b[0m \u001b[0;31m#data = pickle.load(open(\"/tmp/VideoVis/basketball/2022-03-17 13:58:45.pkl\", 'rb'))\u001b[0m\u001b[0;34m\u001b[0m\u001b[0;34m\u001b[0m\u001b[0;34m\u001b[0m\u001b[0m\n\u001b[1;32m     16\u001b[0m \u001b[0;31m#data = pickle.load(open(\"/tmp/VideoVis/weightlifting/2022-03-17 13:45:49.pkl\", 'rb'))\u001b[0m\u001b[0;34m\u001b[0m\u001b[0;34m\u001b[0m\u001b[0;34m\u001b[0m\u001b[0m\n\u001b[0;32m---> 17\u001b[0;31m \u001b[0mdata\u001b[0m \u001b[0;34m=\u001b[0m \u001b[0mpickle\u001b[0m\u001b[0;34m.\u001b[0m\u001b[0mload\u001b[0m\u001b[0;34m(\u001b[0m\u001b[0mopen\u001b[0m\u001b[0;34m(\u001b[0m\u001b[0;34m\"/tmp/VideoVis/2022-08-28 16:29:23.pkl\"\u001b[0m\u001b[0;34m,\u001b[0m \u001b[0;34m'rb'\u001b[0m\u001b[0;34m)\u001b[0m\u001b[0;34m)\u001b[0m\u001b[0;34m\u001b[0m\u001b[0;34m\u001b[0m\u001b[0m\n\u001b[0m\u001b[1;32m     18\u001b[0m \u001b[0;34m\u001b[0m\u001b[0m\n\u001b[1;32m     19\u001b[0m \u001b[0;34m\u001b[0m\u001b[0m\n",
      "\u001b[0;31mFileNotFoundError\u001b[0m: [Errno 2] No such file or directory: '/tmp/VideoVis/2022-08-28 16:29:23.pkl'"
     ]
    }
   ],
   "source": [
    "import numpy as np\n",
    "from matplotlib import pyplot as plt\n",
    "import pickle\n",
    "import pandas as pd\n",
    "import matplotlib.pyplot as plt\n",
    "import seaborn as sns\n",
    "plt.style.use('ggplot')\n",
    "pd.options.display.notebook_repr_html = False \n",
    "plt.rcParams['figure.dpi'] = 75 \n",
    "sns.set_theme(style='darkgrid') \n",
    "\n",
    "from DAGLayout import DAGLayout\n",
    "\n",
    "#data = pickle.load(open(\"/tmp/VideoVis/weightlifting/2022-03-17 13:46:48.pkl\", 'rb'))\n",
    "#data = pickle.load(open(\"/tmp/VideoVis/basketball/2022-03-17 13:58:45.pkl\", 'rb'))\n",
    "#data = pickle.load(open(\"/tmp/VideoVis/weightlifting/2022-03-17 13:45:49.pkl\", 'rb'))\n",
    "data = pickle.load(open(\"/tmp/VideoVis/2022-08-28 16:29:23.pkl\", 'rb'))\n",
    "\n",
    "\n",
    "dist, valid, labels, orders = (data['D'], data['A'], data['labels'], data['orders'])\n",
    "dist = np.array(dist)\n",
    "valid = np.array(valid)\n",
    "labels = np.array(labels)\n",
    "orders = np.array(orders)\n",
    "\n",
    "y = DAGLayout(dist, valid, labels, 400, 0.4, 25)\n",
    "y = 1 - np.array(y)\n",
    "\n",
    "points = []\n",
    "for i in range(y.shape[0]):\n",
    "    curr_valid = np.flatnonzero(valid[i] > 0)\n",
    "    #for j in range(y.shape[1]):\n",
    "    for j in range(curr_valid[0], curr_valid[-1] + 1):\n",
    "        points.append([j, i, y[i, j], labels[i]])\n",
    "points = np.array(points)\n",
    "df = pd.DataFrame({ 'x': points[:, 0], 'line': points[:, 1], 'y': points[:, 2], 'label': points[:, 3] })\n",
    "plt.figure(figsize=(15, 10))\n",
    "sns.lineplot(data=df, x='x', y='y', hue='label', style='line', markers=True)\n",
    "plt.show()"
   ]
  },
  {
   "cell_type": "code",
   "execution_count": 2,
   "metadata": {},
   "outputs": [
    {
     "ename": "FileNotFoundError",
     "evalue": "[Errno 2] No such file or directory: '/tmp/VideoVis/2022-08-28 18:10:38_layout.pkl'",
     "output_type": "error",
     "traceback": [
      "\u001b[0;31m---------------------------------------------------------------------------\u001b[0m",
      "\u001b[0;31mFileNotFoundError\u001b[0m                         Traceback (most recent call last)",
      "\u001b[0;32m<ipython-input-2-b5aa63547c80>\u001b[0m in \u001b[0;36m<cell line: 1>\u001b[0;34m()\u001b[0m\n\u001b[0;32m----> 1\u001b[0;31m \u001b[0mdata\u001b[0m \u001b[0;34m=\u001b[0m \u001b[0mpickle\u001b[0m\u001b[0;34m.\u001b[0m\u001b[0mload\u001b[0m\u001b[0;34m(\u001b[0m\u001b[0mopen\u001b[0m\u001b[0;34m(\u001b[0m\u001b[0;34m\"/tmp/VideoVis/2022-08-28 18:10:38_layout.pkl\"\u001b[0m\u001b[0;34m,\u001b[0m \u001b[0;34m'rb'\u001b[0m\u001b[0;34m)\u001b[0m\u001b[0;34m)\u001b[0m\u001b[0;34m\u001b[0m\u001b[0;34m\u001b[0m\u001b[0m\n\u001b[0m\u001b[1;32m      2\u001b[0m \u001b[0;34m\u001b[0m\u001b[0m\n\u001b[1;32m      3\u001b[0m \u001b[0mdist\u001b[0m\u001b[0;34m,\u001b[0m \u001b[0mvalid\u001b[0m\u001b[0;34m,\u001b[0m \u001b[0mlabels\u001b[0m\u001b[0;34m,\u001b[0m \u001b[0morders\u001b[0m\u001b[0;34m,\u001b[0m \u001b[0my\u001b[0m \u001b[0;34m=\u001b[0m \u001b[0;34m(\u001b[0m\u001b[0mdata\u001b[0m\u001b[0;34m[\u001b[0m\u001b[0;34m'D'\u001b[0m\u001b[0;34m]\u001b[0m\u001b[0;34m,\u001b[0m \u001b[0mdata\u001b[0m\u001b[0;34m[\u001b[0m\u001b[0;34m'A'\u001b[0m\u001b[0;34m]\u001b[0m\u001b[0;34m,\u001b[0m \u001b[0mdata\u001b[0m\u001b[0;34m[\u001b[0m\u001b[0;34m'labels'\u001b[0m\u001b[0;34m]\u001b[0m\u001b[0;34m,\u001b[0m \u001b[0mdata\u001b[0m\u001b[0;34m[\u001b[0m\u001b[0;34m'orders'\u001b[0m\u001b[0;34m]\u001b[0m\u001b[0;34m,\u001b[0m \u001b[0mdata\u001b[0m\u001b[0;34m[\u001b[0m\u001b[0;34m'y'\u001b[0m\u001b[0;34m]\u001b[0m\u001b[0;34m)\u001b[0m\u001b[0;34m\u001b[0m\u001b[0;34m\u001b[0m\u001b[0m\n\u001b[1;32m      4\u001b[0m \u001b[0mdist\u001b[0m \u001b[0;34m=\u001b[0m \u001b[0mnp\u001b[0m\u001b[0;34m.\u001b[0m\u001b[0marray\u001b[0m\u001b[0;34m(\u001b[0m\u001b[0mdist\u001b[0m\u001b[0;34m)\u001b[0m\u001b[0;34m\u001b[0m\u001b[0;34m\u001b[0m\u001b[0m\n\u001b[1;32m      5\u001b[0m \u001b[0mvalid\u001b[0m \u001b[0;34m=\u001b[0m \u001b[0mnp\u001b[0m\u001b[0;34m.\u001b[0m\u001b[0marray\u001b[0m\u001b[0;34m(\u001b[0m\u001b[0mvalid\u001b[0m\u001b[0;34m)\u001b[0m\u001b[0;34m\u001b[0m\u001b[0;34m\u001b[0m\u001b[0m\n",
      "\u001b[0;31mFileNotFoundError\u001b[0m: [Errno 2] No such file or directory: '/tmp/VideoVis/2022-08-28 18:10:38_layout.pkl'"
     ]
    }
   ],
   "source": [
    "data = pickle.load(open(\"/tmp/VideoVis/2022-08-28 18:10:38_layout.pkl\", 'rb'))\n",
    "\n",
    "dist, valid, labels, orders, y = (data['D'], data['A'], data['labels'], data['orders'], data['y'])\n",
    "dist = np.array(dist)\n",
    "valid = np.array(valid)\n",
    "labels = np.array(labels)\n",
    "orders = np.array(orders)\n",
    "y = np.array(y)\n",
    "\n",
    "points = []\n",
    "for i in range(y.shape[0]):\n",
    "    curr_valid = np.flatnonzero(valid[i] > 0)\n",
    "    #for j in range(y.shape[1]):\n",
    "    for j in range(curr_valid[0], curr_valid[-1] + 1):\n",
    "        points.append([j, i, y[i, j], labels[i]])\n",
    "points = np.array(points)\n",
    "df = pd.DataFrame({ 'x': points[:, 0], 'line': points[:, 1], 'y': points[:, 2], 'label': points[:, 3] })\n",
    "plt.figure(figsize=(15, 10))\n",
    "sns.lineplot(data=df, x='x', y='y', hue='label', style='line', markers=True)\n",
    "plt.show()"
   ]
  },
  {
   "cell_type": "code",
   "execution_count": 30,
   "metadata": {},
   "outputs": [
    {
     "name": "stdout",
     "output_type": "stream",
     "text": [
      "[0.2875 0.2875 0.2875 0.2875 0.2875 0.2875 0.2875 0.2875 0.2875 0.2875\n",
      " 0.2875 0.2875 0.2875 0.2875 0.2875 0.2875 0.2875 0.2875 0.2875 0.2875\n",
      " 0.2875 0.2875 0.2875 0.2875 0.2875 0.2875 0.2875 0.2975 0.2975 0.29\n",
      " 0.2825 0.2775 0.275  0.275  0.275  0.275  0.275  0.2675 0.265  0.2575\n",
      " 0.2525 0.25   0.25   0.25   0.25   0.25   0.25  ] [0.0025 0.0025 0.0025 0.0025 0.0025 0.0025 0.0025 0.0025 0.0025 0.0025\n",
      " 0.0025 0.0025 0.0025 0.0025 0.0025 0.0025 0.0025 0.0025 0.0025 0.0025\n",
      " 0.0025 0.0025 0.0025 0.0025 0.0025 0.0025 0.0025 0.0025 0.0025 0.0025\n",
      " 0.0025 0.0025 0.0025 0.0025 0.0025 0.0025 0.0025 0.0025 0.0025 0.0025\n",
      " 0.0025 0.0025 0.0025 0.0025 0.0025 0.0025 0.0025]\n"
     ]
    }
   ],
   "source": [
    "print(y[0], y2[0])"
   ]
  },
  {
   "cell_type": "code",
   "execution_count": 19,
   "metadata": {},
   "outputs": [
    {
     "name": "stdout",
     "output_type": "stream",
     "text": [
      "1\n",
      "[0.72727273 0.72727273 0.72727273 0.72727273 0.72727273 0.72727273\n",
      " 0.72727273 0.72727273 0.72727273 0.72727273 0.72727273 0.72727273\n",
      " 0.72727273 0.72727273 0.72727273 0.72727273 0.72727273 0.72727273\n",
      " 0.72727273 0.72727273 0.72727273 0.63636364 0.63636364 0.72727273\n",
      " 0.90909091 0.90909091 0.90909091 0.90909091 0.90909091 1.\n",
      " 0.72727273 0.81818182 0.90909091 0.90909091 0.81818182 0.81818182\n",
      " 0.90909091 0.90909091 0.81818182 0.81818182 0.81818182 0.81818182]\n"
     ]
    }
   ],
   "source": [
    "print(valid[-1][35])\n",
    "print(dist.sum(axis=0))"
   ]
  },
  {
   "cell_type": "code",
   "execution_count": 3,
   "metadata": {},
   "outputs": [
    {
     "name": "stdout",
     "output_type": "stream",
     "text": [
      "2022-03-17 13:54:57.pkl\n",
      "(6, 13) 0.25\n"
     ]
    }
   ],
   "source": [
    "for f in basketballs:\n",
    "    print(f)\n",
    "    data = pickle.load(open(\"/tmp/VideoVis/basketball/\" + f, 'rb'))\n",
    "\n",
    "    dist, valid, labels = (data['D'], data['A'], data['labels'])\n",
    "    dist = np.array(dist)\n",
    "    valid = np.array(valid)\n",
    "    labels = np.array(labels)\n",
    "    print(dist.shape, dist.max())\n",
    "\n",
    "    break"
   ]
  },
  {
   "cell_type": "code",
   "execution_count": 16,
   "metadata": {},
   "outputs": [
    {
     "name": "stdout",
     "output_type": "stream",
     "text": [
      "(5, 4, 0, 3, 1, 2) (0, 4, 5, 1, 2, 3) 0.0\n",
      "(5, 4, 0, 3, 1, 2) (0, 4, 5, 1, 2, 3) 0.0\n",
      "(5, 4, 3, 0, 1, 2) (0, 3, 4, 5, 1, 2) 0.0\n",
      "(5, 4, 3, 1, 0, 2) (1, 3, 4, 5, 0, 2) 0.0\n",
      "(4, 5, 3, 1, 0, 2) (1, 3, 4, 5, 0, 2) 0.0\n",
      "(4, 3, 5, 1, 0, 2) (1, 3, 4, 5, 0, 2) 0.0\n",
      "(4, 3, 1, 5, 0, 2) (1, 3, 4, 0, 2, 5) 0.0\n",
      "[0, 0.0, 1.0, 2.0, 3.0, 4.0, 5.0, 5.0]\n"
     ]
    }
   ],
   "source": [
    "import pickle\n",
    "import numpy as np\n",
    "import math\n",
    "from itertools import permutations\n",
    "\n",
    "\n",
    "digits_length = 4\n",
    "n_quantify = 1\n",
    "alpha = 1\n",
    "\n",
    "def quantify_dists(dists, n):\n",
    "    return np.minimum(np.ceil(np.floor(dists * 2 * n) / 2), n) / n\n",
    "\n",
    "    \n",
    "# both p1 and p2 should be a permutation of 0-n sequence.\n",
    "def count_reverse_pair(state1, state2, d = None):\n",
    "    n = len(state1)\n",
    "    p, q = list(range(n)), list(range(n))\n",
    "    for pos in range(n):\n",
    "        p[state1[pos]] = pos\n",
    "        q[state2[pos]] = pos\n",
    "\n",
    "    cnt = 0\n",
    "    for i in range(n):\n",
    "        for j in range(i + 1, n):\n",
    "            if (p[i] < p[j]) != (q[i] < q[j]):\n",
    "                if d is None:\n",
    "                    cnt += 1\n",
    "                else:\n",
    "                    cnt += abs(d[i] - d[j])\n",
    "    return cnt\n",
    "\n",
    "input_dist = pickle.load(open('/home/jiashu/VideoVis/test/test.pkl', 'rb'))\n",
    "\n",
    "input_dist = np.array(input_dist)\n",
    "n_cols = input_dist.shape[1]\n",
    "n_rows = input_dist.shape[0]\n",
    "order = [i for i in range(n_rows)]\n",
    "all_states = [x for x in permutations(order)]\n",
    "col_states = []\n",
    "for i in range(n_cols):\n",
    "    col_states.append(tuple(np.argsort(input_dist[:, i]).tolist()))\n",
    "    input_dist[:, i] *= (n_rows - 1)\n",
    "# print(\"col_state:\", col_states)\n",
    "dist = {}\n",
    "prev = {}\n",
    "\n",
    "Q = []\n",
    "head = 0\n",
    "start = (-1, tuple(range(n_rows)))\n",
    "dist[start] = 0\n",
    "prev[start] = None\n",
    "Q.append(start)\n",
    "\n",
    "min_dist = 0\n",
    "end_state = None\n",
    "prev_state = start[1]\n",
    "for i in range(n_cols):\n",
    "    min_cost = 1e10\n",
    "    min_state = -1\n",
    "    for state in all_states:\n",
    "        self_cost = count_reverse_pair(state, col_states[i], input_dist[:, i])\n",
    "        between_cost = count_reverse_pair(state, prev_state) if i > 0 else 0\n",
    "        cost = between_cost * between_cost + self_cost * self_cost * alpha\n",
    "        if cost < min_cost:\n",
    "            min_cost = cost\n",
    "            min_state = state\n",
    "    state = min_state\n",
    "    cost = min_cost\n",
    "    next_state = (i, state)\n",
    "    min_dist += cost\n",
    "    dist[next_state] = min_dist\n",
    "    prev[next_state] = (i - 1, prev_state)\n",
    "    prev_state = state\n",
    "end_state = next_state\n",
    "\n",
    "while head < len(Q):\n",
    "    curr_state = Q[head]\n",
    "    col, state1 = curr_state\n",
    "    head += 1\n",
    "    d = dist[curr_state]\n",
    "    if d > min_dist:\n",
    "        continue\n",
    "    for state2 in all_states:\n",
    "        between_cost = count_reverse_pair(state1, state2) if col > -1 else 0\n",
    "        self_cost = count_reverse_pair(state2, col_states[col + 1], input_dist[:, col + 1])\n",
    "        cost = between_cost * between_cost + self_cost * self_cost * alpha\n",
    "        next_state = (col + 1, state2)\n",
    "        if curr_state == (5, (4, 5, 0, 3, 1, 2)):\n",
    "            print(next_state, cost)\n",
    "        if col + 1 == n_cols - 1:\n",
    "            if d + cost < min_dist:\n",
    "                min_dist = d + cost\n",
    "                dist[next_state] = min_dist\n",
    "                prev[next_state] = curr_state\n",
    "                end_state = next_state\n",
    "        else:\n",
    "            if d + cost > min_dist:\n",
    "                continue\n",
    "            if next_state not in dist:\n",
    "                dist[next_state] = d + cost\n",
    "                prev[next_state] = curr_state\n",
    "                Q.append(next_state)\n",
    "            elif d + cost < dist[next_state]:\n",
    "                dist[next_state] = d + cost\n",
    "                prev[next_state] = curr_state\n",
    "state = end_state\n",
    "ret = []\n",
    "dists = []\n",
    "while state != None:\n",
    "    dists.append(dist[state])\n",
    "    ret.append(state[1])\n",
    "    if prev[state] != None:\n",
    "        #print(state[1], prev[state][1], count_reverse_pair(state[1], prev[state][1]))\n",
    "        print(state[1], col_states[state[0]], count_reverse_pair(state[1], col_states[state[0]], input_dist[:, state[0]]))\n",
    "    state = prev[state]\n",
    "ret = ret[::-1]\n",
    "dists = dists[::-1]\n",
    "print(dists)"
   ]
  },
  {
   "cell_type": "code",
   "execution_count": 17,
   "metadata": {},
   "outputs": [
    {
     "name": "stdout",
     "output_type": "stream",
     "text": [
      "[(0, 1, 2, 3, 4, 5), (4, 3, 1, 5, 0, 2), (4, 3, 5, 1, 0, 2), (4, 5, 3, 1, 0, 2), (5, 4, 3, 1, 0, 2), (5, 4, 3, 0, 1, 2), (5, 4, 0, 3, 1, 2), (5, 4, 0, 3, 1, 2)]\n"
     ]
    }
   ],
   "source": [
    "print(ret)"
   ]
  },
  {
   "cell_type": "code",
   "execution_count": 21,
   "metadata": {},
   "outputs": [
    {
     "name": "stdout",
     "output_type": "stream",
     "text": [
      "0.0\n"
     ]
    }
   ],
   "source": [
    "print(count_reverse_pair((4, 5, 0, 3, 1, 2), (0, 4, 5, 1, 2, 3), input_dist[:, 6]))"
   ]
  },
  {
   "cell_type": "code",
   "execution_count": 25,
   "metadata": {},
   "outputs": [
    {
     "name": "stdout",
     "output_type": "stream",
     "text": [
      "4.0\n"
     ]
    }
   ],
   "source": [
    "print(dist[(5, (4, 5, 0, 3, 1, 2))])"
   ]
  }
 ],
 "metadata": {
  "interpreter": {
   "hash": "7e68ee7780e0be540c4e3141e92f7a462f6acd183a50724e7701ea314000c600"
  },
  "kernelspec": {
   "display_name": "Python 3.8.1 ('base')",
   "language": "python",
   "name": "python3"
  },
  "language_info": {
   "codemirror_mode": {
    "name": "ipython",
    "version": 3
   },
   "file_extension": ".py",
   "mimetype": "text/x-python",
   "name": "python",
   "nbconvert_exporter": "python",
   "pygments_lexer": "ipython3",
   "version": "3.8.1"
  },
  "orig_nbformat": 4
 },
 "nbformat": 4,
 "nbformat_minor": 2
}
